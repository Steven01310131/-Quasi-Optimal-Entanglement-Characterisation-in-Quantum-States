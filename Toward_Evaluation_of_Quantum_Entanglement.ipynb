{
 "cells": [
  {
   "cell_type": "code",
   "execution_count": 39,
   "id": "14ecf833",
   "metadata": {},
   "outputs": [],
   "source": [
    "import numpy as np"
   ]
  },
  {
   "cell_type": "code",
   "execution_count": 41,
   "id": "29ef07c3",
   "metadata": {},
   "outputs": [
    {
     "name": "stdout",
     "output_type": "stream",
     "text": [
      "Enter the number of Qubits: 2\n",
      "Enter the real part of complex coefficient 1: 1\n",
      "Enter the imaginary part of complex coefficient 1: 0\n",
      "Enter the real part of complex coefficient 2: 2\n",
      "Enter the imaginary part of complex coefficient 2: 0\n",
      "Enter the real part of complex coefficient 3: 3\n",
      "Enter the imaginary part of complex coefficient 3: 0\n",
      "Enter the real part of complex coefficient 4: 4\n",
      "Enter the imaginary part of complex coefficient 4: 0\n",
      "Normalized given quantum state 'psi': [0.18257419+0.j 0.36514837+0.j 0.54772256+0.j 0.73029674+0.j]\n"
     ]
    }
   ],
   "source": [
    "# Choosing the desired number of qubits for evaluation\n",
    "num_qubits = int(input(\"Enter the number of Qubits: \"))\n",
    "\n",
    "# Initializing an empty array to store complex-valued coefficient vector of a given quantum state 'psi'\n",
    "psi_state =np.array([])\n",
    "\n",
    "# Taking input for each complex-valued coefficient \n",
    "for i in range(2**num_qubits):\n",
    "    real_part = float(input(f\"Enter the real part of complex coefficient {i + 1}: \"))\n",
    "    imag_part = float(input(f\"Enter the imaginary part of complex coefficient {i + 1}: \"))\n",
    "    psi_state=np.concatenate((psi_state, np.array([complex(real_part, imag_part)])))\n",
    "    \n",
    "# Calculate the magnitude of the vector\n",
    "magnitude = np.linalg.norm(psi_state)\n",
    "\n",
    "# Normalize the vector in computational basis \n",
    "psi_state = psi_state/ magnitude\n",
    "# Printing the normalized given quantum state vector\n",
    "print(\"Normalized given quantum state 'psi':\", psi_state)"
   ]
  },
  {
   "cell_type": "code",
   "execution_count": 42,
   "id": "207705df",
   "metadata": {},
   "outputs": [
    {
     "name": "stdout",
     "output_type": "stream",
     "text": [
      "Enter the real part of complex coefficient 1: 1\n",
      "Enter the imaginary part of complex coefficient 1: 0\n",
      "Enter the real part of complex coefficient 1: 2\n",
      "Enter the imaginary part of complex coefficient 1: 0\n",
      "Enter the real part of complex coefficient 2: 3\n",
      "Enter the imaginary part of complex coefficient 2: 0\n",
      "Enter the real part of complex coefficient 2: 4\n",
      "Enter the imaginary part of complex coefficient 2: 0\n",
      "Matrix associated with separable (product) state 'phi':\n",
      "[[0.4472136 +0.j 0.89442719+0.j]\n",
      " [0.6       +0.j 0.8       +0.j]]\n",
      "Normalized separable quantum state 'phi': [0.26832816+0.j 0.35777088+0.j 0.53665631+0.j 0.71554175+0.j]\n"
     ]
    }
   ],
   "source": [
    "# Initialize an empty matrix of size (number of qubits) x 2, where each row represents one qubit state, to store a separable (product) state 'phi'.\n",
    "matrix = np.zeros((num_qubits, 2), dtype=complex)\n",
    "\n",
    "# Loop to take input for each element in the matrix associated with separable (product) state 'phi'.\n",
    "for i in range(num_qubits):\n",
    "    for j in range(2):\n",
    "        real_part = float(input(f\"Enter the real part of complex coefficient {i + 1}: \"))\n",
    "        imag_part = float(input(f\"Enter the imaginary part of complex coefficient {i + 1}: \"))\n",
    "        matrix[i, j] = complex(real_part, imag_part)\n",
    "    matrix[i]=matrix[i]/np.linalg.norm(matrix[i])  \n",
    "\n",
    "# Printing the matrix\n",
    "print(\"Matrix associated with separable (product) state 'phi':\")\n",
    "print(matrix)\n",
    "\n",
    "# Perform a tensor product operation on the rows of the matrix to obtain a vector representation of state 'phi' in the computational basis.\n",
    "def tensor_product_function(matrix):\n",
    "    num_rows=matrix.shape[0]\n",
    "    phi=[1]\n",
    "    for i in range(num_rows):\n",
    "        phi=np.kron(phi, matrix1[i])\n",
    "    return phi\n",
    "\n",
    "# Printing the state 'phi' in the computational basis\n",
    "phi_state=tensor_product_function(matrix)\n",
    "print(\"Normalized separable quantum state 'phi':\", phi_state)"
   ]
  },
  {
   "cell_type": "code",
   "execution_count": 43,
   "id": "a50d83f5",
   "metadata": {},
   "outputs": [
    {
     "name": "stdout",
     "output_type": "stream",
     "text": [
      "Inner product of the given state 'psi' and the product state 'phi'.': 0.9961258287318258\n"
     ]
    }
   ],
   "source": [
    "# Inner product function of the given state 'psi' and the product state 'phi'.\n",
    "def Inner_product_function(phi, psi):\n",
    "    # Perform some operation on the matrices, e.g., element-wise addition\n",
    "    result = np.abs(np.vdot(phi, psi))\n",
    "    return result\n",
    "\n",
    "iner_product=Inner_product_function(phi_state, psi_state)\n",
    "print(\"Inner product of the given state 'psi' and the product state 'phi'.':\", iner_product)"
   ]
  },
  {
   "cell_type": "code",
   "execution_count": null,
   "id": "abd360c0",
   "metadata": {},
   "outputs": [],
   "source": []
  }
 ],
 "metadata": {
  "kernelspec": {
   "display_name": "Python 3 (ipykernel)",
   "language": "python",
   "name": "python3"
  },
  "language_info": {
   "codemirror_mode": {
    "name": "ipython",
    "version": 3
   },
   "file_extension": ".py",
   "mimetype": "text/x-python",
   "name": "python",
   "nbconvert_exporter": "python",
   "pygments_lexer": "ipython3",
   "version": "3.9.12"
  }
 },
 "nbformat": 4,
 "nbformat_minor": 5
}
